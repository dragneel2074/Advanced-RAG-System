{
 "cells": [
  {
   "cell_type": "code",
   "execution_count": 2,
   "metadata": {},
   "outputs": [
    {
     "name": "stdout",
     "output_type": "stream",
     "text": [
      "Collecting ollama-python\n",
      "  Using cached ollama_python-0.1.2-py3-none-any.whl.metadata (11 kB)\n",
      "Collecting httpx<0.27.0,>=0.26.0 (from ollama-python)\n",
      "  Using cached httpx-0.26.0-py3-none-any.whl.metadata (7.6 kB)\n",
      "Requirement already satisfied: pydantic<3.0.0,>=2.5.3 in c:\\users\\admin\\documents\\hp\\old ssd\\my files\\projects\\ticket_classification\\my_env\\lib\\site-packages (from ollama-python) (2.10.6)\n",
      "Requirement already satisfied: requests<3.0.0,>=2.31.0 in c:\\users\\admin\\documents\\hp\\old ssd\\my files\\projects\\ticket_classification\\my_env\\lib\\site-packages (from ollama-python) (2.32.3)\n",
      "Collecting responses<0.25.0,>=0.24.1 (from ollama-python)\n",
      "  Using cached responses-0.24.1-py3-none-any.whl.metadata (46 kB)\n",
      "Collecting anyio (from httpx<0.27.0,>=0.26.0->ollama-python)\n",
      "  Using cached anyio-4.8.0-py3-none-any.whl.metadata (4.6 kB)\n",
      "Requirement already satisfied: certifi in c:\\users\\admin\\documents\\hp\\old ssd\\my files\\projects\\ticket_classification\\my_env\\lib\\site-packages (from httpx<0.27.0,>=0.26.0->ollama-python) (2025.1.31)\n",
      "Collecting httpcore==1.* (from httpx<0.27.0,>=0.26.0->ollama-python)\n",
      "  Using cached httpcore-1.0.7-py3-none-any.whl.metadata (21 kB)\n",
      "Requirement already satisfied: idna in c:\\users\\admin\\documents\\hp\\old ssd\\my files\\projects\\ticket_classification\\my_env\\lib\\site-packages (from httpx<0.27.0,>=0.26.0->ollama-python) (3.10)\n",
      "Collecting sniffio (from httpx<0.27.0,>=0.26.0->ollama-python)\n",
      "  Using cached sniffio-1.3.1-py3-none-any.whl.metadata (3.9 kB)\n",
      "Collecting h11<0.15,>=0.13 (from httpcore==1.*->httpx<0.27.0,>=0.26.0->ollama-python)\n",
      "  Using cached h11-0.14.0-py3-none-any.whl.metadata (8.2 kB)\n",
      "Requirement already satisfied: annotated-types>=0.6.0 in c:\\users\\admin\\documents\\hp\\old ssd\\my files\\projects\\ticket_classification\\my_env\\lib\\site-packages (from pydantic<3.0.0,>=2.5.3->ollama-python) (0.7.0)\n",
      "Requirement already satisfied: pydantic-core==2.27.2 in c:\\users\\admin\\documents\\hp\\old ssd\\my files\\projects\\ticket_classification\\my_env\\lib\\site-packages (from pydantic<3.0.0,>=2.5.3->ollama-python) (2.27.2)\n",
      "Requirement already satisfied: typing-extensions>=4.12.2 in c:\\users\\admin\\documents\\hp\\old ssd\\my files\\projects\\ticket_classification\\my_env\\lib\\site-packages (from pydantic<3.0.0,>=2.5.3->ollama-python) (4.12.2)\n",
      "Requirement already satisfied: charset-normalizer<4,>=2 in c:\\users\\admin\\documents\\hp\\old ssd\\my files\\projects\\ticket_classification\\my_env\\lib\\site-packages (from requests<3.0.0,>=2.31.0->ollama-python) (3.4.1)\n",
      "Requirement already satisfied: urllib3<3,>=1.21.1 in c:\\users\\admin\\documents\\hp\\old ssd\\my files\\projects\\ticket_classification\\my_env\\lib\\site-packages (from requests<3.0.0,>=2.31.0->ollama-python) (2.3.0)\n",
      "Requirement already satisfied: pyyaml in c:\\users\\admin\\documents\\hp\\old ssd\\my files\\projects\\ticket_classification\\my_env\\lib\\site-packages (from responses<0.25.0,>=0.24.1->ollama-python) (6.0.2)\n",
      "Using cached ollama_python-0.1.2-py3-none-any.whl (16 kB)\n",
      "Using cached httpx-0.26.0-py3-none-any.whl (75 kB)\n",
      "Using cached httpcore-1.0.7-py3-none-any.whl (78 kB)\n",
      "Using cached responses-0.24.1-py3-none-any.whl (55 kB)\n",
      "Using cached anyio-4.8.0-py3-none-any.whl (96 kB)\n",
      "Using cached sniffio-1.3.1-py3-none-any.whl (10 kB)\n",
      "Using cached h11-0.14.0-py3-none-any.whl (58 kB)\n",
      "Installing collected packages: sniffio, h11, responses, httpcore, anyio, httpx, ollama-python\n",
      "Successfully installed anyio-4.8.0 h11-0.14.0 httpcore-1.0.7 httpx-0.26.0 ollama-python-0.1.2 responses-0.24.1 sniffio-1.3.1\n"
     ]
    },
    {
     "name": "stderr",
     "output_type": "stream",
     "text": [
      "\n",
      "[notice] A new release of pip is available: 24.3.1 -> 25.0.1\n",
      "[notice] To update, run: python.exe -m pip install --upgrade pip\n"
     ]
    }
   ],
   "source": [
    "!pip install ollama-python"
   ]
  },
  {
   "cell_type": "code",
   "execution_count": 7,
   "metadata": {},
   "outputs": [
    {
     "name": "stderr",
     "output_type": "stream",
     "text": [
      "c:\\Users\\ADMIN\\Documents\\HP\\old ssd\\MY FILES\\projects\\ticket_classification\\my_env\\Lib\\site-packages\\tqdm\\auto.py:21: TqdmWarning: IProgress not found. Please update jupyter and ipywidgets. See https://ipywidgets.readthedocs.io/en/stable/user_install.html\n",
      "  from .autonotebook import tqdm as notebook_tqdm\n"
     ]
    }
   ],
   "source": [
    "import pandas as pd\n",
    "from sentence_transformers import SentenceTransformer\n",
    "from sklearn.cluster import KMeans\n",
    "from sklearn.preprocessing import normalize\n",
    "from sklearn.metrics.pairwise import cosine_similarity\n"
   ]
  },
  {
   "cell_type": "code",
   "execution_count": 4,
   "metadata": {},
   "outputs": [],
   "source": [
    "df = pd.read_csv('final_tickets_dataset.csv')"
   ]
  },
  {
   "cell_type": "code",
   "execution_count": 5,
   "metadata": {},
   "outputs": [
    {
     "data": {
      "text/plain": [
       "category\n",
       "Feature Request     496\n",
       "Billing Question    462\n",
       "General Inquiry     460\n",
       "Technical Issue     424\n",
       "Name: count, dtype: int64"
      ]
     },
     "execution_count": 5,
     "metadata": {},
     "output_type": "execute_result"
    }
   ],
   "source": [
    "df['category'].value_counts()"
   ]
  },
  {
   "cell_type": "code",
   "execution_count": 6,
   "metadata": {},
   "outputs": [],
   "source": [
    "df['text'] = df['title'] + \" \" + df['description']"
   ]
  },
  {
   "cell_type": "code",
   "execution_count": 8,
   "metadata": {},
   "outputs": [],
   "source": [
    "model = SentenceTransformer('all-MiniLM-L6-v2')\n",
    "embeddings = model.encode(df['text'].tolist())\n"
   ]
  },
  {
   "cell_type": "code",
   "execution_count": 9,
   "metadata": {},
   "outputs": [],
   "source": [
    "normalized_embeddings = normalize(embeddings)"
   ]
  },
  {
   "cell_type": "code",
   "execution_count": 10,
   "metadata": {},
   "outputs": [
    {
     "name": "stdout",
     "output_type": "stream",
     "text": [
      "Cosine Similarity Matrix:\n",
      "[[1.0000002  0.6396663  0.4846085  ... 0.14609577 0.08402182 0.15692775]\n",
      " [0.6396663  0.9999998  0.43901092 ... 0.06220049 0.08869474 0.22545555]\n",
      " [0.4846085  0.43901092 1.0000004  ... 0.11955503 0.03118765 0.11223599]\n",
      " ...\n",
      " [0.14609577 0.06220049 0.11955503 ... 1.         0.27254474 0.3189376 ]\n",
      " [0.08402182 0.08869474 0.03118765 ... 0.27254474 1.0000002  0.64165133]\n",
      " [0.15692775 0.22545555 0.11223599 ... 0.3189376  0.64165133 0.9999999 ]]\n"
     ]
    }
   ],
   "source": [
    "cos_sim_matrix = cosine_similarity(normalized_embeddings)\n",
    "print(\"Cosine Similarity Matrix:\")\n",
    "print(cos_sim_matrix)\n"
   ]
  },
  {
   "cell_type": "code",
   "execution_count": 12,
   "metadata": {},
   "outputs": [],
   "source": [
    "kmeans = KMeans(n_clusters=4, random_state=42)\n",
    "\n"
   ]
  },
  {
   "cell_type": "code",
   "execution_count": 13,
   "metadata": {},
   "outputs": [],
   "source": [
    "df['cluster'] = kmeans.fit_predict(normalized_embeddings)\n"
   ]
  },
  {
   "cell_type": "code",
   "execution_count": 17,
   "metadata": {},
   "outputs": [
    {
     "name": "stdout",
     "output_type": "stream",
     "text": [
      "                             title  cluster\n",
      "1599  Offline content availability        1\n",
      "1328          Product Availability        3\n",
      "1562           Overpayment Inquiry        2\n",
      "1121       Software Update Failure        0\n",
      "1307      Improved User Onboarding        1\n",
      "1184                Password Reset        3\n",
      "622       Unexpected Error Message        0\n",
      "1836               General Inquiry        3\n",
      "714                Missing invoice        2\n",
      "1236            Slow Loading Pages        0\n"
     ]
    }
   ],
   "source": [
    "print(df[['title', 'cluster']].sample(10))"
   ]
  },
  {
   "cell_type": "code",
   "execution_count": 22,
   "metadata": {},
   "outputs": [
    {
     "data": {
      "text/plain": [
       "'Billing Question'"
      ]
     },
     "execution_count": 22,
     "metadata": {},
     "output_type": "execute_result"
    }
   ],
   "source": [
    "df['category'][1562]"
   ]
  },
  {
   "cell_type": "code",
   "execution_count": null,
   "metadata": {},
   "outputs": [
    {
     "ename": "SyntaxError",
     "evalue": "invalid syntax (1600957489.py, line 1)",
     "output_type": "error",
     "traceback": [
      "  \u001b[36mCell\u001b[39m\u001b[36m \u001b[39m\u001b[32mIn[16]\u001b[39m\u001b[32m, line 1\u001b[39m\n\u001b[31m    \u001b[39m\u001b[31m2 -> Billing\u001b[39m\n      ^\n\u001b[31mSyntaxError\u001b[39m\u001b[31m:\u001b[39m invalid syntax\n"
     ]
    }
   ],
   "source": [
    "# 2 -> Billing Question\n",
    "# 1 -> Feature Request\n",
    "# 3 -> General Inquiry\n",
    "# 0 -> Technical Issue\n"
   ]
  },
  {
   "cell_type": "code",
   "execution_count": 15,
   "metadata": {},
   "outputs": [],
   "source": [
    "import pickle\n",
    "\n",
    "# Save the model\n",
    "with open('kmeans_model.pkl', 'wb') as file:\n",
    "    pickle.dump(kmeans, file)\n",
    "\n",
    "# Load the model\n",
    "# with open('kmeans_model.pkl', 'rb') as file:\n",
    "#     loaded_kmeans = pickle.load(file)\n"
   ]
  },
  {
   "cell_type": "code",
   "execution_count": null,
   "metadata": {},
   "outputs": [],
   "source": []
  }
 ],
 "metadata": {
  "kernelspec": {
   "display_name": "my_env",
   "language": "python",
   "name": "python3"
  },
  "language_info": {
   "codemirror_mode": {
    "name": "ipython",
    "version": 3
   },
   "file_extension": ".py",
   "mimetype": "text/x-python",
   "name": "python",
   "nbconvert_exporter": "python",
   "pygments_lexer": "ipython3",
   "version": "3.13.2"
  }
 },
 "nbformat": 4,
 "nbformat_minor": 2
}
