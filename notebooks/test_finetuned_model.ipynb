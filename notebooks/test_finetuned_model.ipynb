{
 "cells": [
  {
   "cell_type": "code",
   "execution_count": 1,
   "metadata": {},
   "outputs": [
    {
     "name": "stderr",
     "output_type": "stream",
     "text": [
      "c:\\Users\\ADMIN\\Documents\\HP\\old ssd\\MY FILES\\projects\\ticket_classification\\my_env\\Lib\\site-packages\\tqdm\\auto.py:21: TqdmWarning: IProgress not found. Please update jupyter and ipywidgets. See https://ipywidgets.readthedocs.io/en/stable/user_install.html\n",
      "  from .autonotebook import tqdm as notebook_tqdm\n",
      "Device set to use cpu\n"
     ]
    },
    {
     "name": "stdout",
     "output_type": "stream",
     "text": [
      "Ticket: I was charged twice for my subscription this month. Can you help?\n",
      "Category: LABEL_0\n",
      "Confidence: 0.9947\n",
      "\n",
      "Ticket: The app keeps crashing whenever I try to upload a file\n",
      "Category: LABEL_3\n",
      "Confidence: 0.9953\n",
      "\n",
      "Ticket: Would it be possible to add dark mode to the dashboard?\n",
      "Category: LABEL_2\n",
      "Confidence: 0.9955\n",
      "\n",
      "Ticket: What are your business hours?\n",
      "Category: LABEL_2\n",
      "Confidence: 0.9930\n",
      "\n"
     ]
    }
   ],
   "source": [
    "from transformers import pipeline\n",
    "\n",
    "# Load the model\n",
    "classifier = pipeline(\"text-classification\", model=\"Dragneel/ticket-classification-v1\")\n",
    "\n",
    "# Example tickets\n",
    "tickets = [\n",
    "    \"I was charged twice for my subscription this month. Can you help?\",\n",
    "    \"The app keeps crashing whenever I try to upload a file\",\n",
    "    \"Would it be possible to add dark mode to the dashboard?\",\n",
    "    \"What are your business hours?\"\n",
    "]\n",
    "\n",
    "# Classify tickets\n",
    "for ticket in tickets:\n",
    "    result = classifier(ticket)\n",
    "    print(f\"Ticket: {ticket}\")\n",
    "    print(f\"Category: {result[0]['label']}\")\n",
    "    print(f\"Confidence: {result[0]['score']:.4f}\")\n",
    "    print()"
   ]
  },
  {
   "cell_type": "code",
   "execution_count": null,
   "metadata": {},
   "outputs": [],
   "source": []
  }
 ],
 "metadata": {
  "kernelspec": {
   "display_name": "my_env",
   "language": "python",
   "name": "python3"
  },
  "language_info": {
   "codemirror_mode": {
    "name": "ipython",
    "version": 3
   },
   "file_extension": ".py",
   "mimetype": "text/x-python",
   "name": "python",
   "nbconvert_exporter": "python",
   "pygments_lexer": "ipython3",
   "version": "3.13.2"
  }
 },
 "nbformat": 4,
 "nbformat_minor": 2
}
